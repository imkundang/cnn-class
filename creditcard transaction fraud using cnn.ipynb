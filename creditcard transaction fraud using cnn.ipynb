{
 "cells": [
  {
   "cell_type": "code",
   "execution_count": 1,
   "metadata": {},
   "outputs": [],
   "source": [
    "import tensorflow\n",
    "from tensorflow.keras.models import Sequential\n",
    "from tensorflow.keras.layers import Flatten,Dropout,Conv1D,BatchNormalization,MaxPool1D,Dense\n",
    "from tensorflow.keras.optimizers import Adam\n",
    "\n"
   ]
  },
  {
   "cell_type": "code",
   "execution_count": 2,
   "metadata": {},
   "outputs": [],
   "source": [
    "import numpy as np\n",
    "import pandas as pd\n"
   ]
  },
  {
   "cell_type": "code",
   "execution_count": null,
   "metadata": {},
   "outputs": [],
   "source": []
  },
  {
   "cell_type": "code",
   "execution_count": null,
   "metadata": {},
   "outputs": [],
   "source": []
  },
  {
   "cell_type": "code",
   "execution_count": 3,
   "metadata": {},
   "outputs": [],
   "source": [
    "df=pd.read_csv('creditcard.csv')"
   ]
  },
  {
   "cell_type": "code",
   "execution_count": 4,
   "metadata": {},
   "outputs": [
    {
     "data": {
      "text/html": [
       "<div>\n",
       "<style scoped>\n",
       "    .dataframe tbody tr th:only-of-type {\n",
       "        vertical-align: middle;\n",
       "    }\n",
       "\n",
       "    .dataframe tbody tr th {\n",
       "        vertical-align: top;\n",
       "    }\n",
       "\n",
       "    .dataframe thead th {\n",
       "        text-align: right;\n",
       "    }\n",
       "</style>\n",
       "<table border=\"1\" class=\"dataframe\">\n",
       "  <thead>\n",
       "    <tr style=\"text-align: right;\">\n",
       "      <th></th>\n",
       "      <th>Time</th>\n",
       "      <th>V1</th>\n",
       "      <th>V2</th>\n",
       "      <th>V3</th>\n",
       "      <th>V4</th>\n",
       "      <th>V5</th>\n",
       "      <th>V6</th>\n",
       "      <th>V7</th>\n",
       "      <th>V8</th>\n",
       "      <th>V9</th>\n",
       "      <th>...</th>\n",
       "      <th>V21</th>\n",
       "      <th>V22</th>\n",
       "      <th>V23</th>\n",
       "      <th>V24</th>\n",
       "      <th>V25</th>\n",
       "      <th>V26</th>\n",
       "      <th>V27</th>\n",
       "      <th>V28</th>\n",
       "      <th>Amount</th>\n",
       "      <th>Class</th>\n",
       "    </tr>\n",
       "  </thead>\n",
       "  <tbody>\n",
       "    <tr>\n",
       "      <th>0</th>\n",
       "      <td>0.0</td>\n",
       "      <td>-1.359807</td>\n",
       "      <td>-0.072781</td>\n",
       "      <td>2.536347</td>\n",
       "      <td>1.378155</td>\n",
       "      <td>-0.338321</td>\n",
       "      <td>0.462388</td>\n",
       "      <td>0.239599</td>\n",
       "      <td>0.098698</td>\n",
       "      <td>0.363787</td>\n",
       "      <td>...</td>\n",
       "      <td>-0.018307</td>\n",
       "      <td>0.277838</td>\n",
       "      <td>-0.110474</td>\n",
       "      <td>0.066928</td>\n",
       "      <td>0.128539</td>\n",
       "      <td>-0.189115</td>\n",
       "      <td>0.133558</td>\n",
       "      <td>-0.021053</td>\n",
       "      <td>149.62</td>\n",
       "      <td>0</td>\n",
       "    </tr>\n",
       "    <tr>\n",
       "      <th>1</th>\n",
       "      <td>0.0</td>\n",
       "      <td>1.191857</td>\n",
       "      <td>0.266151</td>\n",
       "      <td>0.166480</td>\n",
       "      <td>0.448154</td>\n",
       "      <td>0.060018</td>\n",
       "      <td>-0.082361</td>\n",
       "      <td>-0.078803</td>\n",
       "      <td>0.085102</td>\n",
       "      <td>-0.255425</td>\n",
       "      <td>...</td>\n",
       "      <td>-0.225775</td>\n",
       "      <td>-0.638672</td>\n",
       "      <td>0.101288</td>\n",
       "      <td>-0.339846</td>\n",
       "      <td>0.167170</td>\n",
       "      <td>0.125895</td>\n",
       "      <td>-0.008983</td>\n",
       "      <td>0.014724</td>\n",
       "      <td>2.69</td>\n",
       "      <td>0</td>\n",
       "    </tr>\n",
       "    <tr>\n",
       "      <th>2</th>\n",
       "      <td>1.0</td>\n",
       "      <td>-1.358354</td>\n",
       "      <td>-1.340163</td>\n",
       "      <td>1.773209</td>\n",
       "      <td>0.379780</td>\n",
       "      <td>-0.503198</td>\n",
       "      <td>1.800499</td>\n",
       "      <td>0.791461</td>\n",
       "      <td>0.247676</td>\n",
       "      <td>-1.514654</td>\n",
       "      <td>...</td>\n",
       "      <td>0.247998</td>\n",
       "      <td>0.771679</td>\n",
       "      <td>0.909412</td>\n",
       "      <td>-0.689281</td>\n",
       "      <td>-0.327642</td>\n",
       "      <td>-0.139097</td>\n",
       "      <td>-0.055353</td>\n",
       "      <td>-0.059752</td>\n",
       "      <td>378.66</td>\n",
       "      <td>0</td>\n",
       "    </tr>\n",
       "    <tr>\n",
       "      <th>3</th>\n",
       "      <td>1.0</td>\n",
       "      <td>-0.966272</td>\n",
       "      <td>-0.185226</td>\n",
       "      <td>1.792993</td>\n",
       "      <td>-0.863291</td>\n",
       "      <td>-0.010309</td>\n",
       "      <td>1.247203</td>\n",
       "      <td>0.237609</td>\n",
       "      <td>0.377436</td>\n",
       "      <td>-1.387024</td>\n",
       "      <td>...</td>\n",
       "      <td>-0.108300</td>\n",
       "      <td>0.005274</td>\n",
       "      <td>-0.190321</td>\n",
       "      <td>-1.175575</td>\n",
       "      <td>0.647376</td>\n",
       "      <td>-0.221929</td>\n",
       "      <td>0.062723</td>\n",
       "      <td>0.061458</td>\n",
       "      <td>123.50</td>\n",
       "      <td>0</td>\n",
       "    </tr>\n",
       "    <tr>\n",
       "      <th>4</th>\n",
       "      <td>2.0</td>\n",
       "      <td>-1.158233</td>\n",
       "      <td>0.877737</td>\n",
       "      <td>1.548718</td>\n",
       "      <td>0.403034</td>\n",
       "      <td>-0.407193</td>\n",
       "      <td>0.095921</td>\n",
       "      <td>0.592941</td>\n",
       "      <td>-0.270533</td>\n",
       "      <td>0.817739</td>\n",
       "      <td>...</td>\n",
       "      <td>-0.009431</td>\n",
       "      <td>0.798278</td>\n",
       "      <td>-0.137458</td>\n",
       "      <td>0.141267</td>\n",
       "      <td>-0.206010</td>\n",
       "      <td>0.502292</td>\n",
       "      <td>0.219422</td>\n",
       "      <td>0.215153</td>\n",
       "      <td>69.99</td>\n",
       "      <td>0</td>\n",
       "    </tr>\n",
       "  </tbody>\n",
       "</table>\n",
       "<p>5 rows × 31 columns</p>\n",
       "</div>"
      ],
      "text/plain": [
       "   Time        V1        V2        V3        V4        V5        V6        V7  \\\n",
       "0   0.0 -1.359807 -0.072781  2.536347  1.378155 -0.338321  0.462388  0.239599   \n",
       "1   0.0  1.191857  0.266151  0.166480  0.448154  0.060018 -0.082361 -0.078803   \n",
       "2   1.0 -1.358354 -1.340163  1.773209  0.379780 -0.503198  1.800499  0.791461   \n",
       "3   1.0 -0.966272 -0.185226  1.792993 -0.863291 -0.010309  1.247203  0.237609   \n",
       "4   2.0 -1.158233  0.877737  1.548718  0.403034 -0.407193  0.095921  0.592941   \n",
       "\n",
       "         V8        V9  ...       V21       V22       V23       V24       V25  \\\n",
       "0  0.098698  0.363787  ... -0.018307  0.277838 -0.110474  0.066928  0.128539   \n",
       "1  0.085102 -0.255425  ... -0.225775 -0.638672  0.101288 -0.339846  0.167170   \n",
       "2  0.247676 -1.514654  ...  0.247998  0.771679  0.909412 -0.689281 -0.327642   \n",
       "3  0.377436 -1.387024  ... -0.108300  0.005274 -0.190321 -1.175575  0.647376   \n",
       "4 -0.270533  0.817739  ... -0.009431  0.798278 -0.137458  0.141267 -0.206010   \n",
       "\n",
       "        V26       V27       V28  Amount  Class  \n",
       "0 -0.189115  0.133558 -0.021053  149.62      0  \n",
       "1  0.125895 -0.008983  0.014724    2.69      0  \n",
       "2 -0.139097 -0.055353 -0.059752  378.66      0  \n",
       "3 -0.221929  0.062723  0.061458  123.50      0  \n",
       "4  0.502292  0.219422  0.215153   69.99      0  \n",
       "\n",
       "[5 rows x 31 columns]"
      ]
     },
     "execution_count": 4,
     "metadata": {},
     "output_type": "execute_result"
    }
   ],
   "source": [
    "df.head()"
   ]
  },
  {
   "cell_type": "code",
   "execution_count": 5,
   "metadata": {},
   "outputs": [
    {
     "data": {
      "text/plain": [
       "(284807, 31)"
      ]
     },
     "execution_count": 5,
     "metadata": {},
     "output_type": "execute_result"
    }
   ],
   "source": [
    "df.shape"
   ]
  },
  {
   "cell_type": "code",
   "execution_count": 6,
   "metadata": {},
   "outputs": [
    {
     "data": {
      "text/plain": [
       "0    284315\n",
       "1       492\n",
       "Name: Class, dtype: int64"
      ]
     },
     "execution_count": 6,
     "metadata": {},
     "output_type": "execute_result"
    }
   ],
   "source": [
    "df['Class'].value_counts()"
   ]
  },
  {
   "cell_type": "code",
   "execution_count": 7,
   "metadata": {},
   "outputs": [
    {
     "data": {
      "text/plain": [
       "Time      0\n",
       "V1        0\n",
       "V2        0\n",
       "V3        0\n",
       "V4        0\n",
       "V5        0\n",
       "V6        0\n",
       "V7        0\n",
       "V8        0\n",
       "V9        0\n",
       "V10       0\n",
       "V11       0\n",
       "V12       0\n",
       "V13       0\n",
       "V14       0\n",
       "V15       0\n",
       "V16       0\n",
       "V17       0\n",
       "V18       0\n",
       "V19       0\n",
       "V20       0\n",
       "V21       0\n",
       "V22       0\n",
       "V23       0\n",
       "V24       0\n",
       "V25       0\n",
       "V26       0\n",
       "V27       0\n",
       "V28       0\n",
       "Amount    0\n",
       "Class     0\n",
       "dtype: int64"
      ]
     },
     "execution_count": 7,
     "metadata": {},
     "output_type": "execute_result"
    }
   ],
   "source": [
    "df.isnull().sum()"
   ]
  },
  {
   "cell_type": "code",
   "execution_count": 8,
   "metadata": {},
   "outputs": [],
   "source": [
    "non_fraud=df[df['Class']==0]\n",
    "fraud=df[df['Class']==1]"
   ]
  },
  {
   "cell_type": "code",
   "execution_count": 9,
   "metadata": {},
   "outputs": [
    {
     "data": {
      "text/plain": [
       "(284315, 31)"
      ]
     },
     "execution_count": 9,
     "metadata": {},
     "output_type": "execute_result"
    }
   ],
   "source": [
    "non_fraud.shape"
   ]
  },
  {
   "cell_type": "code",
   "execution_count": 10,
   "metadata": {},
   "outputs": [
    {
     "data": {
      "text/plain": [
       "(492, 31)"
      ]
     },
     "execution_count": 10,
     "metadata": {},
     "output_type": "execute_result"
    }
   ],
   "source": [
    "fraud.shape"
   ]
  },
  {
   "cell_type": "code",
   "execution_count": 11,
   "metadata": {},
   "outputs": [],
   "source": [
    "non_fraud=non_fraud.sample(fraud.shape[0])"
   ]
  },
  {
   "cell_type": "code",
   "execution_count": 12,
   "metadata": {},
   "outputs": [
    {
     "data": {
      "text/plain": [
       "(492, 31)"
      ]
     },
     "execution_count": 12,
     "metadata": {},
     "output_type": "execute_result"
    }
   ],
   "source": [
    "non_fraud.shape"
   ]
  },
  {
   "cell_type": "code",
   "execution_count": 13,
   "metadata": {},
   "outputs": [],
   "source": [
    "data=fraud.append(non_fraud,ignore_index=True)"
   ]
  },
  {
   "cell_type": "code",
   "execution_count": 14,
   "metadata": {},
   "outputs": [
    {
     "data": {
      "text/plain": [
       "(984, 31)"
      ]
     },
     "execution_count": 14,
     "metadata": {},
     "output_type": "execute_result"
    }
   ],
   "source": [
    "data.shape"
   ]
  },
  {
   "cell_type": "code",
   "execution_count": 15,
   "metadata": {},
   "outputs": [
    {
     "data": {
      "text/plain": [
       "1    492\n",
       "0    492\n",
       "Name: Class, dtype: int64"
      ]
     },
     "execution_count": 15,
     "metadata": {},
     "output_type": "execute_result"
    }
   ],
   "source": [
    "data.Class.value_counts()"
   ]
  },
  {
   "cell_type": "code",
   "execution_count": 16,
   "metadata": {},
   "outputs": [],
   "source": [
    "x=data.iloc[:,:-1]\n",
    "y=data['Class']"
   ]
  },
  {
   "cell_type": "code",
   "execution_count": 17,
   "metadata": {},
   "outputs": [],
   "source": [
    "from sklearn.model_selection import train_test_split\n",
    "x_train,x_test,y_train,y_test=train_test_split(x,y,test_size=.2,random_state=0,stratify=y)"
   ]
  },
  {
   "cell_type": "code",
   "execution_count": 18,
   "metadata": {},
   "outputs": [],
   "source": [
    "from sklearn.preprocessing import StandardScaler"
   ]
  },
  {
   "cell_type": "code",
   "execution_count": 19,
   "metadata": {},
   "outputs": [
    {
     "data": {
      "text/plain": [
       "'y_train = np.asarray(y_train)\\ny_test = np.asarray(y_test)\\nx_train=np.asarray(x_train)\\nx_test=np.asarray(x_test)'"
      ]
     },
     "execution_count": 19,
     "metadata": {},
     "output_type": "execute_result"
    }
   ],
   "source": [
    "'''y_train = np.asarray(y_train)\n",
    "y_test = np.asarray(y_test)\n",
    "x_train=np.asarray(x_train)\n",
    "x_test=np.asarray(x_test)'''"
   ]
  },
  {
   "cell_type": "code",
   "execution_count": 20,
   "metadata": {},
   "outputs": [],
   "source": [
    "scaler=StandardScaler()\n",
    "x_train=scaler.fit_transform(x_train)\n",
    "x_test=scaler.transform(x_test)"
   ]
  },
  {
   "cell_type": "code",
   "execution_count": 21,
   "metadata": {},
   "outputs": [],
   "source": [
    "y_train = np.asarray(y_train)\n",
    "y_test = np.asarray(y_test)\n"
   ]
  },
  {
   "cell_type": "code",
   "execution_count": 22,
   "metadata": {},
   "outputs": [],
   "source": [
    "x_train=x_train.reshape(x_train.shape[0],x_train.shape[1],1)\n",
    "x_test=x_test.reshape(x_test.shape[0],x_test.shape[1],1)"
   ]
  },
  {
   "cell_type": "code",
   "execution_count": 23,
   "metadata": {},
   "outputs": [
    {
     "data": {
      "text/plain": [
       "(787, 30, 1)"
      ]
     },
     "execution_count": 23,
     "metadata": {},
     "output_type": "execute_result"
    }
   ],
   "source": [
    "x_train.shape"
   ]
  },
  {
   "cell_type": "code",
   "execution_count": 24,
   "metadata": {},
   "outputs": [],
   "source": [
    "#build cnn\n",
    "model=Sequential()\n",
    "model.add(Conv1D(32,2,activation='relu',input_shape=x_train[0].shape))\n",
    "model.add(BatchNormalization())\n",
    "model.add(Dropout(.2))\n",
    "model.add(Conv1D(64,2,activation='relu'))\n",
    "model.add(BatchNormalization())\n",
    "model.add(Dropout(.5))\n",
    "model.add(Flatten())\n",
    "model.add(Dense(64,activation='relu'))\n",
    "model.add(Dropout(.5))\n",
    "model.add(Dense(1,activation='sigmoid'))\n",
    "\n",
    "\n",
    "\n",
    "\n",
    "\n",
    "\n"
   ]
  },
  {
   "cell_type": "code",
   "execution_count": 25,
   "metadata": {},
   "outputs": [
    {
     "name": "stdout",
     "output_type": "stream",
     "text": [
      "Model: \"sequential\"\n",
      "_________________________________________________________________\n",
      "Layer (type)                 Output Shape              Param #   \n",
      "=================================================================\n",
      "conv1d (Conv1D)              (None, 29, 32)            96        \n",
      "_________________________________________________________________\n",
      "batch_normalization (BatchNo (None, 29, 32)            128       \n",
      "_________________________________________________________________\n",
      "dropout (Dropout)            (None, 29, 32)            0         \n",
      "_________________________________________________________________\n",
      "conv1d_1 (Conv1D)            (None, 28, 64)            4160      \n",
      "_________________________________________________________________\n",
      "batch_normalization_1 (Batch (None, 28, 64)            256       \n",
      "_________________________________________________________________\n",
      "dropout_1 (Dropout)          (None, 28, 64)            0         \n",
      "_________________________________________________________________\n",
      "flatten (Flatten)            (None, 1792)              0         \n",
      "_________________________________________________________________\n",
      "dense (Dense)                (None, 64)                114752    \n",
      "_________________________________________________________________\n",
      "dropout_2 (Dropout)          (None, 64)                0         \n",
      "_________________________________________________________________\n",
      "dense_1 (Dense)              (None, 1)                 65        \n",
      "=================================================================\n",
      "Total params: 119,457\n",
      "Trainable params: 119,265\n",
      "Non-trainable params: 192\n",
      "_________________________________________________________________\n"
     ]
    }
   ],
   "source": [
    "model.summary()"
   ]
  },
  {
   "cell_type": "code",
   "execution_count": 26,
   "metadata": {},
   "outputs": [],
   "source": [
    "model.compile(loss='binary_crossentropy',optimizer=Adam(lr=.0001),metrics=['accuracy'])"
   ]
  },
  {
   "cell_type": "code",
   "execution_count": 27,
   "metadata": {},
   "outputs": [
    {
     "name": "stdout",
     "output_type": "stream",
     "text": [
      "Train on 787 samples, validate on 197 samples\n",
      "Epoch 1/20\n"
     ]
    },
    {
     "name": "stderr",
     "output_type": "stream",
     "text": [
      "WARNING: Logging before flag parsing goes to stderr.\n",
      "W0416 01:52:56.885798  6972 deprecation.py:323] From C:\\Users\\satish\\Anaconda3\\lib\\site-packages\\tensorflow_core\\python\\ops\\nn_impl.py:183: where (from tensorflow.python.ops.array_ops) is deprecated and will be removed in a future version.\n",
      "Instructions for updating:\n",
      "Use tf.where in 2.0, which has the same broadcast rule as np.where\n"
     ]
    },
    {
     "name": "stdout",
     "output_type": "stream",
     "text": [
      "787/787 [==============================] - 7s 8ms/sample - loss: 0.7663 - accuracy: 0.6887 - val_loss: 0.6060 - val_accuracy: 0.8325\n",
      "Epoch 2/20\n",
      "787/787 [==============================] - 1s 1ms/sample - loss: 0.4664 - accuracy: 0.8170 - val_loss: 0.5515 - val_accuracy: 0.8122\n",
      "Epoch 3/20\n",
      "787/787 [==============================] - 1s 1ms/sample - loss: 0.3658 - accuracy: 0.8551 - val_loss: 0.5110 - val_accuracy: 0.8629\n",
      "Epoch 4/20\n",
      "787/787 [==============================] - 1s 1ms/sample - loss: 0.3434 - accuracy: 0.8691 - val_loss: 0.4716 - val_accuracy: 0.9137\n",
      "Epoch 5/20\n",
      "787/787 [==============================] - 1s 1ms/sample - loss: 0.3164 - accuracy: 0.8755 - val_loss: 0.4398 - val_accuracy: 0.9188\n",
      "Epoch 6/20\n",
      "787/787 [==============================] - 1s 1ms/sample - loss: 0.3110 - accuracy: 0.8869 - val_loss: 0.4067 - val_accuracy: 0.9239\n",
      "Epoch 7/20\n",
      "787/787 [==============================] - 1s 2ms/sample - loss: 0.2933 - accuracy: 0.9047 - val_loss: 0.3599 - val_accuracy: 0.9289\n",
      "Epoch 8/20\n",
      "787/787 [==============================] - 1s 2ms/sample - loss: 0.2461 - accuracy: 0.9034 - val_loss: 0.3309 - val_accuracy: 0.9340\n",
      "Epoch 9/20\n",
      "787/787 [==============================] - 1s 1ms/sample - loss: 0.2892 - accuracy: 0.8920 - val_loss: 0.3065 - val_accuracy: 0.9289\n",
      "Epoch 10/20\n",
      "787/787 [==============================] - 1s 1ms/sample - loss: 0.2528 - accuracy: 0.9047 - val_loss: 0.2744 - val_accuracy: 0.9340\n",
      "Epoch 11/20\n",
      "787/787 [==============================] - 1s 1ms/sample - loss: 0.2297 - accuracy: 0.9136 - val_loss: 0.2547 - val_accuracy: 0.9391\n",
      "Epoch 12/20\n",
      "787/787 [==============================] - 1s 1ms/sample - loss: 0.2333 - accuracy: 0.9111 - val_loss: 0.2300 - val_accuracy: 0.9391\n",
      "Epoch 13/20\n",
      "787/787 [==============================] - 1s 1ms/sample - loss: 0.2131 - accuracy: 0.9199 - val_loss: 0.2146 - val_accuracy: 0.9442\n",
      "Epoch 14/20\n",
      "787/787 [==============================] - 1s 1ms/sample - loss: 0.2184 - accuracy: 0.9225 - val_loss: 0.2065 - val_accuracy: 0.9442\n",
      "Epoch 15/20\n",
      "787/787 [==============================] - 1s 1ms/sample - loss: 0.2000 - accuracy: 0.9327 - val_loss: 0.1933 - val_accuracy: 0.9391\n",
      "Epoch 16/20\n",
      "787/787 [==============================] - 1s 1ms/sample - loss: 0.2096 - accuracy: 0.9199 - val_loss: 0.1847 - val_accuracy: 0.9391\n",
      "Epoch 17/20\n",
      "787/787 [==============================] - 1s 1ms/sample - loss: 0.2179 - accuracy: 0.9212 - val_loss: 0.1794 - val_accuracy: 0.9340\n",
      "Epoch 18/20\n",
      "787/787 [==============================] - 1s 1ms/sample - loss: 0.1839 - accuracy: 0.9276 - val_loss: 0.1749 - val_accuracy: 0.9289\n",
      "Epoch 19/20\n",
      "787/787 [==============================] - 1s 1ms/sample - loss: 0.1964 - accuracy: 0.9263 - val_loss: 0.1717 - val_accuracy: 0.9289\n",
      "Epoch 20/20\n",
      "787/787 [==============================] - 1s 1ms/sample - loss: 0.2160 - accuracy: 0.9263 - val_loss: 0.1691 - val_accuracy: 0.9340\n"
     ]
    }
   ],
   "source": [
    "history=model.fit(x_train,y_train,epochs=20,validation_data=(x_test,y_test))"
   ]
  },
  {
   "cell_type": "code",
   "execution_count": 28,
   "metadata": {},
   "outputs": [],
   "source": [
    "def plot_learningCurve(history, epochs):\n",
    "    \n",
    "\n",
    "    # Plot training & validation accuracy\n",
    "    epoch_range = range(1, epochs+1)\n",
    "    plt.plot(epoch_range, history.history['accuracy'])\n",
    "    plt.plot(epoch_range, history.history['val_accuracy'])\n",
    "    plt.title('Model accuracy')\n",
    "    plt.ylabel('Accuracy')\n",
    "    plt.xlabel('Epoch')\n",
    "    plt.legend(['Train', 'Val'], loc='upper left')\n",
    "    plt.show()\n",
    "    \n",
    "    # Plot training & validation loss values\\n\",\n",
    "    plt.plot(epoch_range, history.history['loss'])\n",
    "    plt.plot(epoch_range, history.history['val_loss'])\n",
    "    plt.title('Model loss')\n",
    "    plt.ylabel('Loss')\n",
    "    plt.xlabel('Epoch')\n",
    "    plt.legend(['Train', 'Val'], loc='upper left')\n",
    "    plt.show()"
   ]
  },
  {
   "cell_type": "code",
   "execution_count": 29,
   "metadata": {},
   "outputs": [
    {
     "data": {
      "image/png": "[encoded data removed]",
      "text/plain": [
       "<Figure size 432x288 with 1 Axes>"
      ]
     },
     "metadata": {
      "needs_background": "light"
     },
     "output_type": "display_data"
    },
    {
     "data": {
      "image/png": "[encoded data removed]",
      "text/plain": [
       "<Figure size 432x288 with 1 Axes>"
      ]
     },
     "metadata": {
      "needs_background": "light"
     },
     "output_type": "display_data"
    }
   ],
   "source": [
    "import matplotlib.pyplot as plt\n",
    "%matplotlib inline\n",
    "plot_learningCurve(history, 20)"
   ]
  },
  {
   "cell_type": "code",
   "execution_count": 35,
   "metadata": {},
   "outputs": [],
   "source": [
    "#adding max pool\n",
    "#build cnn\n",
    "model=Sequential()\n",
    "model.add(Conv1D(32,2,activation='relu',input_shape=x_train[0].shape))\n",
    "model.add(BatchNormalization())\n",
    "model.add(MaxPool1D(2))\n",
    "model.add(Dropout(.2))\n",
    "model.add(Conv1D(64,2,activation='relu'))\n",
    "model.add(BatchNormalization())\n",
    "model.add(MaxPool1D(2))\n",
    "model.add(Dropout(.5))\n",
    "model.add(Flatten())\n",
    "model.add(Dense(64,activation='relu'))\n",
    "model.add(Dropout(.5))\n",
    "model.add(Dense(1,activation='sigmoid'))\n"
   ]
  },
  {
   "cell_type": "code",
   "execution_count": 36,
   "metadata": {},
   "outputs": [],
   "source": [
    "model.compile(loss='binary_crossentropy',optimizer=Adam(lr=.0001),metrics=['accuracy'])"
   ]
  },
  {
   "cell_type": "code",
   "execution_count": 37,
   "metadata": {},
   "outputs": [
    {
     "name": "stdout",
     "output_type": "stream",
     "text": [
      "Train on 787 samples, validate on 197 samples\n",
      "Epoch 1/50\n",
      "787/787 [==============================] - 3s 4ms/sample - loss: 1.2709 - accuracy: 0.5375 - val_loss: 0.6224 - val_accuracy: 0.7462\n",
      "Epoch 2/50\n",
      "787/787 [==============================] - 0s 601us/sample - loss: 0.9090 - accuracy: 0.6252 - val_loss: 0.5968 - val_accuracy: 0.7919\n",
      "Epoch 3/50\n",
      "787/787 [==============================] - 0s 624us/sample - loss: 0.7459 - accuracy: 0.6684 - val_loss: 0.5727 - val_accuracy: 0.7716\n",
      "Epoch 4/50\n",
      "787/787 [==============================] - 1s 699us/sample - loss: 0.5819 - accuracy: 0.7459 - val_loss: 0.5472 - val_accuracy: 0.7411\n",
      "Epoch 5/50\n",
      "787/787 [==============================] - 1s 653us/sample - loss: 0.5754 - accuracy: 0.7522 - val_loss: 0.5208 - val_accuracy: 0.7919\n",
      "Epoch 6/50\n",
      "787/787 [==============================] - 1s 646us/sample - loss: 0.4650 - accuracy: 0.7954 - val_loss: 0.4923 - val_accuracy: 0.7970\n",
      "Epoch 7/50\n",
      "787/787 [==============================] - 1s 831us/sample - loss: 0.4815 - accuracy: 0.8056 - val_loss: 0.4631 - val_accuracy: 0.7970\n",
      "Epoch 8/50\n",
      "787/787 [==============================] - 1s 700us/sample - loss: 0.4204 - accuracy: 0.8323 - val_loss: 0.4352 - val_accuracy: 0.8274\n",
      "Epoch 9/50\n",
      "787/787 [==============================] - 1s 745us/sample - loss: 0.4006 - accuracy: 0.8488 - val_loss: 0.4082 - val_accuracy: 0.8325\n",
      "Epoch 10/50\n",
      "787/787 [==============================] - 1s 752us/sample - loss: 0.3823 - accuracy: 0.8424 - val_loss: 0.3837 - val_accuracy: 0.8376\n",
      "Epoch 11/50\n",
      "787/787 [==============================] - 1s 751us/sample - loss: 0.3587 - accuracy: 0.8666 - val_loss: 0.3609 - val_accuracy: 0.8376\n",
      "Epoch 12/50\n",
      "787/787 [==============================] - 1s 1ms/sample - loss: 0.4005 - accuracy: 0.8577 - val_loss: 0.3406 - val_accuracy: 0.8477\n",
      "Epoch 13/50\n",
      "787/787 [==============================] - 1s 1ms/sample - loss: 0.3447 - accuracy: 0.8793 - val_loss: 0.3239 - val_accuracy: 0.8579\n",
      "Epoch 14/50\n",
      "787/787 [==============================] - 1s 939us/sample - loss: 0.3502 - accuracy: 0.8564 - val_loss: 0.3093 - val_accuracy: 0.8579\n",
      "Epoch 15/50\n",
      "787/787 [==============================] - 1s 1ms/sample - loss: 0.3621 - accuracy: 0.8539 - val_loss: 0.2996 - val_accuracy: 0.8629\n",
      "Epoch 16/50\n",
      "787/787 [==============================] - 1s 1ms/sample - loss: 0.3072 - accuracy: 0.8780 - val_loss: 0.2906 - val_accuracy: 0.8782\n",
      "Epoch 17/50\n",
      "787/787 [==============================] - 1s 1ms/sample - loss: 0.3324 - accuracy: 0.8653 - val_loss: 0.2826 - val_accuracy: 0.8782\n",
      "Epoch 18/50\n",
      "787/787 [==============================] - 1s 1ms/sample - loss: 0.3226 - accuracy: 0.8806 - val_loss: 0.2760 - val_accuracy: 0.8832\n",
      "Epoch 19/50\n",
      "787/787 [==============================] - 1s 1ms/sample - loss: 0.3478 - accuracy: 0.8742 - val_loss: 0.2706 - val_accuracy: 0.8883\n",
      "Epoch 20/50\n",
      "787/787 [==============================] - 1s 953us/sample - loss: 0.3434 - accuracy: 0.8818 - val_loss: 0.2689 - val_accuracy: 0.8883\n",
      "Epoch 21/50\n",
      "787/787 [==============================] - 1s 1ms/sample - loss: 0.3159 - accuracy: 0.8831 - val_loss: 0.2657 - val_accuracy: 0.8832\n",
      "Epoch 22/50\n",
      "787/787 [==============================] - 1s 762us/sample - loss: 0.2737 - accuracy: 0.8882 - val_loss: 0.2656 - val_accuracy: 0.8883\n",
      "Epoch 23/50\n",
      "787/787 [==============================] - 1s 987us/sample - loss: 0.2834 - accuracy: 0.8971 - val_loss: 0.2668 - val_accuracy: 0.8883\n",
      "Epoch 24/50\n",
      "787/787 [==============================] - 1s 746us/sample - loss: 0.2776 - accuracy: 0.9009 - val_loss: 0.2669 - val_accuracy: 0.8883\n",
      "Epoch 25/50\n",
      "787/787 [==============================] - 1s 722us/sample - loss: 0.2877 - accuracy: 0.8882 - val_loss: 0.2663 - val_accuracy: 0.8883\n",
      "Epoch 26/50\n",
      "787/787 [==============================] - 1s 756us/sample - loss: 0.2722 - accuracy: 0.8983 - val_loss: 0.2643 - val_accuracy: 0.8883\n",
      "Epoch 27/50\n",
      "787/787 [==============================] - 1s 815us/sample - loss: 0.2897 - accuracy: 0.8920 - val_loss: 0.2645 - val_accuracy: 0.8883\n",
      "Epoch 28/50\n",
      "787/787 [==============================] - 1s 945us/sample - loss: 0.2680 - accuracy: 0.9085 - val_loss: 0.2617 - val_accuracy: 0.8883\n",
      "Epoch 29/50\n",
      "787/787 [==============================] - 1s 789us/sample - loss: 0.2472 - accuracy: 0.9072 - val_loss: 0.2620 - val_accuracy: 0.8883\n",
      "Epoch 30/50\n",
      "787/787 [==============================] - 1s 736us/sample - loss: 0.2577 - accuracy: 0.9111 - val_loss: 0.2573 - val_accuracy: 0.8985\n",
      "Epoch 31/50\n",
      "787/787 [==============================] - 1s 773us/sample - loss: 0.2809 - accuracy: 0.8895 - val_loss: 0.2566 - val_accuracy: 0.8985\n",
      "Epoch 32/50\n",
      "787/787 [==============================] - 1s 747us/sample - loss: 0.2889 - accuracy: 0.8958 - val_loss: 0.2561 - val_accuracy: 0.9036\n",
      "Epoch 33/50\n",
      "787/787 [==============================] - 1s 712us/sample - loss: 0.2336 - accuracy: 0.9225 - val_loss: 0.2508 - val_accuracy: 0.9086\n",
      "Epoch 34/50\n",
      "787/787 [==============================] - 1s 731us/sample - loss: 0.2625 - accuracy: 0.8971 - val_loss: 0.2491 - val_accuracy: 0.9086\n",
      "Epoch 35/50\n",
      "787/787 [==============================] - 1s 750us/sample - loss: 0.2809 - accuracy: 0.8958 - val_loss: 0.2487 - val_accuracy: 0.9086\n",
      "Epoch 36/50\n",
      "787/787 [==============================] - 1s 961us/sample - loss: 0.2356 - accuracy: 0.9149 - val_loss: 0.2500 - val_accuracy: 0.9086\n",
      "Epoch 37/50\n",
      "787/787 [==============================] - 1s 846us/sample - loss: 0.2427 - accuracy: 0.9111 - val_loss: 0.2529 - val_accuracy: 0.9036\n",
      "Epoch 38/50\n",
      "787/787 [==============================] - 1s 666us/sample - loss: 0.2504 - accuracy: 0.8983 - val_loss: 0.2529 - val_accuracy: 0.9086\n",
      "Epoch 39/50\n",
      "787/787 [==============================] - 1s 789us/sample - loss: 0.2584 - accuracy: 0.8971 - val_loss: 0.2516 - val_accuracy: 0.9086\n",
      "Epoch 40/50\n",
      "787/787 [==============================] - 1s 856us/sample - loss: 0.2410 - accuracy: 0.9136 - val_loss: 0.2486 - val_accuracy: 0.9137\n",
      "Epoch 41/50\n",
      "787/787 [==============================] - 1s 849us/sample - loss: 0.2635 - accuracy: 0.8945 - val_loss: 0.2485 - val_accuracy: 0.9137\n",
      "Epoch 42/50\n",
      "787/787 [==============================] - 1s 780us/sample - loss: 0.2377 - accuracy: 0.9085 - val_loss: 0.2461 - val_accuracy: 0.9137\n",
      "Epoch 43/50\n",
      "787/787 [==============================] - 1s 1ms/sample - loss: 0.2363 - accuracy: 0.9149 - val_loss: 0.2435 - val_accuracy: 0.9137\n",
      "Epoch 44/50\n",
      "787/787 [==============================] - 1s 1ms/sample - loss: 0.2349 - accuracy: 0.9161 - val_loss: 0.2418 - val_accuracy: 0.9188\n",
      "Epoch 45/50\n",
      "787/787 [==============================] - 1s 912us/sample - loss: 0.2448 - accuracy: 0.9149 - val_loss: 0.2423 - val_accuracy: 0.9188\n",
      "Epoch 46/50\n",
      "787/787 [==============================] - 1s 860us/sample - loss: 0.2324 - accuracy: 0.9111 - val_loss: 0.2403 - val_accuracy: 0.9188\n",
      "Epoch 47/50\n",
      "787/787 [==============================] - 1s 845us/sample - loss: 0.2085 - accuracy: 0.9263 - val_loss: 0.2412 - val_accuracy: 0.9188\n",
      "Epoch 48/50\n",
      "787/787 [==============================] - 1s 1ms/sample - loss: 0.2418 - accuracy: 0.9098 - val_loss: 0.2398 - val_accuracy: 0.9188\n",
      "Epoch 49/50\n",
      "787/787 [==============================] - 1s 1ms/sample - loss: 0.2408 - accuracy: 0.9136 - val_loss: 0.2354 - val_accuracy: 0.9188\n",
      "Epoch 50/50\n",
      "787/787 [==============================] - 1s 1ms/sample - loss: 0.2461 - accuracy: 0.9072 - val_loss: 0.2369 - val_accuracy: 0.9188\n"
     ]
    }
   ],
   "source": [
    "history=model.fit(x_train,y_train,epochs=50,validation_data=(x_test,y_test))"
   ]
  },
  {
   "cell_type": "code",
   "execution_count": 38,
   "metadata": {},
   "outputs": [],
   "source": [
    "def plot_learningCurve(history, epochs):\n",
    "    \n",
    "\n",
    "    # Plot training & validation accuracy\n",
    "    epoch_range = range(1, epochs+1)\n",
    "    plt.plot(epoch_range, history.history['accuracy'])\n",
    "    plt.plot(epoch_range, history.history['val_accuracy'])\n",
    "    plt.title('Model accuracy')\n",
    "    plt.ylabel('Accuracy')\n",
    "    plt.xlabel('Epoch')\n",
    "    plt.legend(['Train', 'Val'], loc='upper left')\n",
    "    plt.show()\n",
    "    \n",
    "    # Plot training & validation loss values\\n\",\n",
    "    plt.plot(epoch_range, history.history['loss'])\n",
    "    plt.plot(epoch_range, history.history['val_loss'])\n",
    "    plt.title('Model loss')\n",
    "    plt.ylabel('Loss')\n",
    "    plt.xlabel('Epoch')\n",
    "    plt.legend(['Train', 'Val'], loc='upper left')\n",
    "    plt.show()"
   ]
  },
  {
   "cell_type": "code",
   "execution_count": 39,
   "metadata": {},
   "outputs": [
    {
     "data": {
      "image/png": "[encoded data removed]",
      "text/plain": [
       "<Figure size 432x288 with 1 Axes>"
      ]
     },
     "metadata": {
      "needs_background": "light"
     },
     "output_type": "display_data"
    },
    {
     "data": {
      "image/png": "[encoded data removed]",
      "text/plain": [
       "<Figure size 432x288 with 1 Axes>"
      ]
     },
     "metadata": {
      "needs_background": "light"
     },
     "output_type": "display_data"
    }
   ],
   "source": [
    "import matplotlib.pyplot as plt\n",
    "%matplotlib inline\n",
    "plot_learningCurve(history, 50)"
   ]
  },
  {
   "cell_type": "code",
   "execution_count": null,
   "metadata": {},
   "outputs": [],
   "source": []
  }
 ],
 "metadata": {
  "kernelspec": {
   "display_name": "Python 3",
   "language": "python",
   "name": "python3"
  },
  "language_info": {
   "codemirror_mode": {
    "name": "ipython",
    "version": 3
   },
   "file_extension": ".py",
   "mimetype": "text/x-python",
   "name": "python",
   "nbconvert_exporter": "python",
   "pygments_lexer": "ipython3",
   "version": "3.7.0"
  }
 },
 "nbformat": 4,
 "nbformat_minor": 2
}
